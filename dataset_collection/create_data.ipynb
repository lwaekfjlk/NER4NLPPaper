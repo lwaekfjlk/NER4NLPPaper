{
 "cells": [
  {
   "cell_type": "markdown",
   "metadata": {},
   "source": [
    "# Crawl Data"
   ]
  },
  {
   "cell_type": "code",
   "execution_count": 46,
   "metadata": {},
   "outputs": [],
   "source": [
    "acl_bib = 'data/anthology.bib'\n",
    "\n",
    "acl_paper = [\n",
    "    \"Proceedings of the 60th Annual Meeting of the Association for Computational Linguistics (Volume 1: Long Papers)\",\n",
    "    \"Proceedings of the 60th Annual Meeting of the Association for Computational Linguistics (Volume 2: Short Papers)\",\n",
    "    \"Proceedings of the 59th Annual Meeting of the Association for Computational Linguistics and the 11th International Joint Conference on Natural Language Processing (Volume 1: Long Papers)\",\n",
    "    \"Proceedings of the 59th Annual Meeting of the Association for Computational Linguistics and the 11th International Joint Conference on Natural Language Processing (Volume 2: Short Papers)\",\n",
    "    \"Proceedings of the 58th Annual Meeting of the Association for Computational Linguistics\"\n",
    "]\n",
    "\n",
    "naacl_paper = [\n",
    "    \"Proceedings of the 2022 Conference of the North American Chapter of the Association for Computational Linguistics: Human Language Technologies\",\n",
    "    \"Proceedings of the 2021 Conference of the North American Chapter of the Association for Computational Linguistics: Human Language Technologies\",\n",
    "    \"Proceedings of the 2019 Conference of the North American Chapter of the Association for Computational Linguistics: Human Language Technologies, Volume 1 (Long and Short Papers)\"  \n",
    "]\n",
    "\n",
    "emnlp_paper = [\n",
    "    \"Proceedings of the 2021 Conference on Empirical Methods in Natural Language Processing\",\n",
    "    \"Proceedings of the 2020 Conference on Empirical Methods in Natural Language Processing (EMNLP)\",\n",
    "    \"Proceedings of the 2019 Conference on Empirical Methods in Natural Language Processing and the 9th International Joint Conference on Natural Language Processing (EMNLP-IJCNLP)\"\n",
    "]\n",
    "\n",
    "target_venue = acl_paper + naacl_paper + emnlp_paper"
   ]
  },
  {
   "cell_type": "code",
   "execution_count": 58,
   "metadata": {},
   "outputs": [],
   "source": [
    "papers = []\n",
    "i = 0\n",
    "with open(acl_bib, 'r') as f:\n",
    "    while True:\n",
    "        line = f.readline()\n",
    "        if line == '':\n",
    "            break\n",
    "        \n",
    "        item = {\n",
    "            'venue': None,\n",
    "            'year': None,\n",
    "            'url': None\n",
    "        }\n",
    "        while True:\n",
    "            line_item = f.readline().strip().split(' = ')\n",
    "            if line_item[0] == '}':\n",
    "                break\n",
    "                \n",
    "            if line_item[0] == 'year':\n",
    "                item['year'] = int(line_item[-1].strip(\"\\\",\"))\n",
    "            elif line_item[0] == 'booktitle':  \n",
    "                item['venue'] = line_item[-1].strip(\"\\\",\")\n",
    "            elif line_item[0] == 'url':  \n",
    "                item['url'] = line_item[-1].strip(\"\\\",\") + '.pdf'\n",
    "        \n",
    "        if item['venue'] in target_venue:\n",
    "            item['id'] = i\n",
    "            i += 1\n",
    "            papers.append(item)"
   ]
  },
  {
   "cell_type": "code",
   "execution_count": 57,
   "metadata": {},
   "outputs": [],
   "source": [
    "import json\n",
    "\n",
    "pdf_file = 'data/paper_urls.json'\n",
    "with open(pdf_file, 'w')as f:\n",
    "    json.dump(papers, f, indent='\\t')"
   ]
  },
  {
   "cell_type": "markdown",
   "metadata": {},
   "source": [
    "# Parse PDF"
   ]
  },
  {
   "cell_type": "code",
   "execution_count": 59,
   "metadata": {},
   "outputs": [],
   "source": [
    "url_file = 'data/paper_urls.json'\n",
    "\n",
    "with open(pdf_file, 'r')as f:\n",
    "    papers = json.load(f)"
   ]
  },
  {
   "cell_type": "code",
   "execution_count": 60,
   "metadata": {},
   "outputs": [],
   "source": [
    "import random\n",
    "from tqdm import tqdm\n",
    "import scipdf"
   ]
  },
  {
   "cell_type": "code",
   "execution_count": 61,
   "metadata": {},
   "outputs": [
    {
     "data": {
      "text/plain": [
       "5386"
      ]
     },
     "execution_count": 61,
     "metadata": {},
     "output_type": "execute_result"
    }
   ],
   "source": [
    "len(papers)"
   ]
  },
  {
   "cell_type": "code",
   "execution_count": 66,
   "metadata": {},
   "outputs": [
    {
     "name": "stderr",
     "output_type": "stream",
     "text": [
      "100%|██████████████████████████████████████████████████████████████████████████████████████████████████████████████████████████████| 1200/1200 [54:57<00:00,  2.75s/it]\n"
     ]
    }
   ],
   "source": [
    "num_paper = 1200\n",
    "selected_paper_content = []\n",
    "\n",
    "for paper_item in tqdm(random.sample(papers, num_paper)):\n",
    "    try:\n",
    "        article_dict = scipdf.parse_pdf_to_dict(paper_item['url'])\n",
    "        paper_item.update(article_dict)\n",
    "        selected_paper_content.append(paper_item)\n",
    "    except:\n",
    "        continue"
   ]
  },
  {
   "cell_type": "code",
   "execution_count": 67,
   "metadata": {},
   "outputs": [],
   "source": [
    "parsed_pdf_file = 'data/selected_paper_random1000.json'\n",
    "with open(parsed_pdf_file, 'w')as f:\n",
    "    json.dump(selected_paper_content, f, indent='\\t')"
   ]
  },
  {
   "cell_type": "code",
   "execution_count": null,
   "metadata": {},
   "outputs": [],
   "source": []
  }
 ],
 "metadata": {
  "kernelspec": {
   "display_name": "Python 3 (ipykernel)",
   "language": "python",
   "name": "python3"
  },
  "language_info": {
   "codemirror_mode": {
    "name": "ipython",
    "version": 3
   },
   "file_extension": ".py",
   "mimetype": "text/x-python",
   "name": "python",
   "nbconvert_exporter": "python",
   "pygments_lexer": "ipython3",
   "version": "3.8.13"
  }
 },
 "nbformat": 4,
 "nbformat_minor": 1
}
